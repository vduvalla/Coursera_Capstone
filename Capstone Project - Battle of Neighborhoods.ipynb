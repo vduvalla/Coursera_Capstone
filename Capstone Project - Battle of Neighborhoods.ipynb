{
 "cells": [
  {
   "cell_type": "markdown",
   "metadata": {},
   "source": [
    "## Scenario"
   ]
  },
  {
   "cell_type": "markdown",
   "metadata": {},
   "source": [
    "Food trucks have been growing since it was known to the public. The main aim of the food truck is to take the food to the customers. The business plan would be successful if the truck was aimed at the right target customers. Unlike traditional restaurant and fast food chains, the food is cooked at that moment and served fresh to the customer. The turnaround time for the customer's orders should be quick to satisfy customers. The following business problem section is based on this scenario."
   ]
  },
  {
   "cell_type": "markdown",
   "metadata": {},
   "source": [
    "### 1. Business Problem"
   ]
  },
  {
   "cell_type": "markdown",
   "metadata": {},
   "source": [
    "A client of mine who is based in Houston, Texas, wants to start a food truck with the concept of selling middle eastern cuisine. It mainly concentrates on foods like shawarma, wraps, salads with hummus etc. These foods are pretty quick to cook and serve to the customers. The main goal of the client is to aim at the customers like students, business employees, constructions sites, public parks, or mostly commonly visited places by the public. The challenge is to find the top three neighborhoods among the most popular neighborhoods in Houston, Texas so that my client can kick-start their business and estimate the turn out profits in the next two to three years by concentrating on the top three neighborhoods.\n",
    "\n",
    "This business problem mainly concentrates on finding the top three neighborhoods to start the food truck business."
   ]
  },
  {
   "cell_type": "markdown",
   "metadata": {},
   "source": [
    "### 2.Data"
   ]
  },
  {
   "cell_type": "markdown",
   "metadata": {},
   "source": [
    "##### Sources: \n",
    "\n",
    "1. List of super neighborhoods in Houston, TX: http://www.city-data.com/nbmaps/neigh-Houston-Texas.html (Link changed due to inaccurate data in wikipedia)\n",
    "2. FourSquare data to find the popular venues\n",
    "\n",
    "##### How will the data be used to answer the business needs?\n",
    "The data mentioned above will be used to explore and target locations across different venues present in the neighborhoods. \n",
    "\n",
    "1. Use Foursquare and geopy data to map top venues for the super neighborhoods of Houston and cluster them in groups\n",
    "2. City-Data to get the neighborhoods information\n",
    "3. Additional data will be added from open data sources if available in the future if the data is insufficient\n",
    "\n",
    "By extracting the venues of the neighborhoods we can determine the most visited venues which would determine that the customer count is high in that area. By using Foursquare data and the Houston's neighborhood data, we can recommend the top three neighborhoods by performing machine learning techniques and can visualize them through a graph or a map. "
   ]
  },
  {
   "cell_type": "code",
   "execution_count": 1,
   "metadata": {},
   "outputs": [
    {
     "name": "stdout",
     "output_type": "stream",
     "text": [
      "Collecting geopy\n",
      "\u001b[?25l  Downloading https://files.pythonhosted.org/packages/80/93/d384479da0ead712bdaf697a8399c13a9a89bd856ada5a27d462fb45e47b/geopy-1.20.0-py2.py3-none-any.whl (100kB)\n",
      "\u001b[K     |████████████████████████████████| 102kB 18.5MB/s ta 0:00:01\n",
      "\u001b[?25hCollecting geographiclib<2,>=1.49 (from geopy)\n",
      "  Downloading https://files.pythonhosted.org/packages/8b/62/26ec95a98ba64299163199e95ad1b0e34ad3f4e176e221c40245f211e425/geographiclib-1.50-py3-none-any.whl\n",
      "Installing collected packages: geographiclib, geopy\n",
      "Successfully installed geographiclib-1.50 geopy-1.20.0\n",
      "Requirement already satisfied: folium in /home/jupyterlab/conda/envs/python/lib/python3.6/site-packages (0.5.0)\n",
      "Requirement already satisfied: branca in /home/jupyterlab/conda/envs/python/lib/python3.6/site-packages (from folium) (0.3.1)\n",
      "Requirement already satisfied: jinja2 in /home/jupyterlab/conda/envs/python/lib/python3.6/site-packages (from folium) (2.10.3)\n",
      "Requirement already satisfied: requests in /home/jupyterlab/conda/envs/python/lib/python3.6/site-packages (from folium) (2.22.0)\n",
      "Requirement already satisfied: six in /home/jupyterlab/conda/envs/python/lib/python3.6/site-packages (from folium) (1.13.0)\n",
      "Requirement already satisfied: MarkupSafe>=0.23 in /home/jupyterlab/conda/envs/python/lib/python3.6/site-packages (from jinja2->folium) (1.1.1)\n",
      "Requirement already satisfied: urllib3!=1.25.0,!=1.25.1,<1.26,>=1.21.1 in /home/jupyterlab/conda/envs/python/lib/python3.6/site-packages (from requests->folium) (1.25.7)\n",
      "Requirement already satisfied: chardet<3.1.0,>=3.0.2 in /home/jupyterlab/conda/envs/python/lib/python3.6/site-packages (from requests->folium) (3.0.4)\n",
      "Requirement already satisfied: idna<2.9,>=2.5 in /home/jupyterlab/conda/envs/python/lib/python3.6/site-packages (from requests->folium) (2.8)\n",
      "Requirement already satisfied: certifi>=2017.4.17 in /home/jupyterlab/conda/envs/python/lib/python3.6/site-packages (from requests->folium) (2019.9.11)\n",
      "Collecting lxml\n",
      "\u001b[?25l  Downloading https://files.pythonhosted.org/packages/68/30/affd16b77edf9537f5be051905f33527021e20d563d013e8c42c7fd01949/lxml-4.4.2-cp36-cp36m-manylinux1_x86_64.whl (5.8MB)\n",
      "\u001b[K     |████████████████████████████████| 5.8MB 4.0MB/s eta 0:00:01\n",
      "\u001b[?25hInstalling collected packages: lxml\n",
      "Successfully installed lxml-4.4.2\n",
      "Collecting beautifulsoup4\n",
      "\u001b[?25l  Downloading https://files.pythonhosted.org/packages/cb/a1/c698cf319e9cfed6b17376281bd0efc6bfc8465698f54170ef60a485ab5d/beautifulsoup4-4.8.2-py3-none-any.whl (106kB)\n",
      "\u001b[K     |████████████████████████████████| 112kB 7.4MB/s eta 0:00:01\n",
      "\u001b[?25hCollecting soupsieve>=1.2 (from beautifulsoup4)\n",
      "  Downloading https://files.pythonhosted.org/packages/81/94/03c0f04471fc245d08d0a99f7946ac228ca98da4fa75796c507f61e688c2/soupsieve-1.9.5-py2.py3-none-any.whl\n",
      "Installing collected packages: soupsieve, beautifulsoup4\n",
      "Successfully installed beautifulsoup4-4.8.2 soupsieve-1.9.5\n",
      "Libraries imported.\n"
     ]
    }
   ],
   "source": [
    "import numpy as np # library to handle data in a vectorized manner\n",
    "\n",
    "import pandas as pd # library for data analysis\n",
    "pd.set_option('display.max_columns', None)\n",
    "pd.set_option('display.max_rows', None)\n",
    "\n",
    "import json # library to handle JSON files\n",
    "\n",
    "#!conda install -c conda-forge geopy --yes # \n",
    "!pip install geopy\n",
    "from geopy.geocoders import Nominatim # convert an address into latitude and longitude values\n",
    "\n",
    "import requests # library to handle requests\n",
    "from pandas.io.json import json_normalize # tranform JSON file into a pandas dataframe\n",
    "\n",
    "#Matplotlib and associated plotting modules\n",
    "import matplotlib.cm as cm\n",
    "import matplotlib.colors as colors\n",
    "import matplotlib.pyplot as plt\n",
    "\n",
    "#import k-means from clustering stage\n",
    "from sklearn.cluster import KMeans\n",
    "\n",
    "#!conda install -c conda-forge folium=0.5.0 --yes # \n",
    "!pip install  folium \n",
    "import folium # map rendering library\n",
    "\n",
    "#!conda install -c conda-forge lxml --yes\n",
    "!pip install lxml\n",
    "#Lib for html handling\n",
    "from lxml import html\n",
    "\n",
    "#Beautiful soup to extract the neighborhoods names\n",
    "!pip install beautifulsoup4\n",
    "from bs4 import BeautifulSoup\n",
    "\n",
    "print('Libraries imported.')"
   ]
  },
  {
   "cell_type": "markdown",
   "metadata": {},
   "source": [
    "##### Storing the neighborhoods data into the dataframe"
   ]
  },
  {
   "cell_type": "code",
   "execution_count": 2,
   "metadata": {},
   "outputs": [],
   "source": [
    "#Extracting the xml using beautiful soup\n",
    "url = requests.get('http://www.city-data.com/nbmaps/neigh-Houston-Texas.html').text\n",
    "soup = BeautifulSoup(url,'lxml')"
   ]
  },
  {
   "cell_type": "code",
   "execution_count": 3,
   "metadata": {},
   "outputs": [],
   "source": [
    "#Finding neighborhoods and converting them to lists\n",
    "mydivs = soup.findAll(\"span\", {\"class\": \"street-name\"})\n",
    "data =[]\n",
    "for i in mydivs:\n",
    "    data.append(i.text)"
   ]
  },
  {
   "cell_type": "code",
   "execution_count": 4,
   "metadata": {},
   "outputs": [
    {
     "data": {
      "text/html": [
       "<div>\n",
       "<style scoped>\n",
       "    .dataframe tbody tr th:only-of-type {\n",
       "        vertical-align: middle;\n",
       "    }\n",
       "\n",
       "    .dataframe tbody tr th {\n",
       "        vertical-align: top;\n",
       "    }\n",
       "\n",
       "    .dataframe thead th {\n",
       "        text-align: right;\n",
       "    }\n",
       "</style>\n",
       "<table border=\"1\" class=\"dataframe\">\n",
       "  <thead>\n",
       "    <tr style=\"text-align: right;\">\n",
       "      <th></th>\n",
       "      <th>Neighborhood</th>\n",
       "    </tr>\n",
       "  </thead>\n",
       "  <tbody>\n",
       "    <tr>\n",
       "      <th>0</th>\n",
       "      <td>Acres Homes</td>\n",
       "    </tr>\n",
       "    <tr>\n",
       "      <th>1</th>\n",
       "      <td>Alden Bridge</td>\n",
       "    </tr>\n",
       "    <tr>\n",
       "      <th>2</th>\n",
       "      <td>Alief</td>\n",
       "    </tr>\n",
       "    <tr>\n",
       "      <th>3</th>\n",
       "      <td>Allendale</td>\n",
       "    </tr>\n",
       "    <tr>\n",
       "      <th>4</th>\n",
       "      <td>Astrodome</td>\n",
       "    </tr>\n",
       "  </tbody>\n",
       "</table>\n",
       "</div>"
      ],
      "text/plain": [
       "   Neighborhood\n",
       "0   Acres Homes\n",
       "1  Alden Bridge\n",
       "2         Alief\n",
       "3     Allendale\n",
       "4     Astrodome"
      ]
     },
     "execution_count": 4,
     "metadata": {},
     "output_type": "execute_result"
    }
   ],
   "source": [
    "#Converting the neighborhoods list to dataframe\n",
    "df_Houston = pd.DataFrame(data)\n",
    "df_Houston = df_Houston.rename(columns={df_Houston.columns[0]: 'Neighborhood'})\n",
    "df_Houston.head()"
   ]
  },
  {
   "cell_type": "markdown",
   "metadata": {},
   "source": [
    "##### Using Geo Py to retrieve the longitude and latitude of Houston"
   ]
  },
  {
   "cell_type": "code",
   "execution_count": 5,
   "metadata": {},
   "outputs": [
    {
     "name": "stdout",
     "output_type": "stream",
     "text": [
      "Geographical co-ordinates of Houston, TX are (lat):29.7589382 and (long): -95.3676974\n"
     ]
    }
   ],
   "source": [
    "address = 'Houston, TX'\n",
    "\n",
    "geolocator = Nominatim(user_agent=\"foursquare_agent\")\n",
    "location = geolocator.geocode(address)\n",
    "latitude = location.latitude\n",
    "longitude = location.longitude\n",
    "print(\"Geographical co-ordinates of Houston, TX are (lat):{} and (long): {}\".format(latitude, longitude))"
   ]
  },
  {
   "cell_type": "markdown",
   "metadata": {},
   "source": [
    "Script to extract the latitude and longitudes of the neighborhood using geo locator "
   ]
  },
  {
   "cell_type": "code",
   "execution_count": 6,
   "metadata": {},
   "outputs": [],
   "source": [
    "#Create lists for lat and long\n",
    "lat = []\n",
    "lng = []\n",
    "\n",
    "#Loop through all neigborhoods in Helsinki\n",
    "for adr in df_Houston['Neighborhood']:\n",
    "    #Use geolocator to get coordinates of neigborhoods within Houston\n",
    "    loc = geolocator.geocode(adr+','+ 'Houston'+','+'TX')\n",
    "    if loc == None:\n",
    "        lat.append('NAN')\n",
    "        lng.append('NAN')\n",
    "    #Append coordinates to lists\n",
    "    else:\n",
    "        lat.append(loc.latitude)\n",
    "        lng.append(loc.longitude)\n",
    "\n",
    "#Map coordinate lists to data frame \n",
    "\n",
    "df_Houston['lat'] = lat\n",
    "df_Houston['lng'] = lng"
   ]
  },
  {
   "cell_type": "markdown",
   "metadata": {},
   "source": [
    "##### Following dataframe consists of neighborhoods and their latitudes and longitudes that can be used for clustering the venues according the neighborhoods"
   ]
  },
  {
   "cell_type": "code",
   "execution_count": 7,
   "metadata": {},
   "outputs": [
    {
     "data": {
      "text/html": [
       "<div>\n",
       "<style scoped>\n",
       "    .dataframe tbody tr th:only-of-type {\n",
       "        vertical-align: middle;\n",
       "    }\n",
       "\n",
       "    .dataframe tbody tr th {\n",
       "        vertical-align: top;\n",
       "    }\n",
       "\n",
       "    .dataframe thead th {\n",
       "        text-align: right;\n",
       "    }\n",
       "</style>\n",
       "<table border=\"1\" class=\"dataframe\">\n",
       "  <thead>\n",
       "    <tr style=\"text-align: right;\">\n",
       "      <th></th>\n",
       "      <th>Neighborhood</th>\n",
       "      <th>lat</th>\n",
       "      <th>lng</th>\n",
       "    </tr>\n",
       "  </thead>\n",
       "  <tbody>\n",
       "    <tr>\n",
       "      <th>0</th>\n",
       "      <td>Acres Homes</td>\n",
       "      <td>29.8647</td>\n",
       "      <td>-95.4309</td>\n",
       "    </tr>\n",
       "    <tr>\n",
       "      <th>1</th>\n",
       "      <td>Alden Bridge</td>\n",
       "      <td>NAN</td>\n",
       "      <td>NAN</td>\n",
       "    </tr>\n",
       "    <tr>\n",
       "      <th>2</th>\n",
       "      <td>Alief</td>\n",
       "      <td>29.7111</td>\n",
       "      <td>-95.5963</td>\n",
       "    </tr>\n",
       "    <tr>\n",
       "      <th>3</th>\n",
       "      <td>Allendale</td>\n",
       "      <td>29.6941</td>\n",
       "      <td>-95.2463</td>\n",
       "    </tr>\n",
       "    <tr>\n",
       "      <th>4</th>\n",
       "      <td>Astrodome</td>\n",
       "      <td>29.6849</td>\n",
       "      <td>-95.4077</td>\n",
       "    </tr>\n",
       "  </tbody>\n",
       "</table>\n",
       "</div>"
      ],
      "text/plain": [
       "   Neighborhood      lat      lng\n",
       "0   Acres Homes  29.8647 -95.4309\n",
       "1  Alden Bridge      NAN      NAN\n",
       "2         Alief  29.7111 -95.5963\n",
       "3     Allendale  29.6941 -95.2463\n",
       "4     Astrodome  29.6849 -95.4077"
      ]
     },
     "execution_count": 7,
     "metadata": {},
     "output_type": "execute_result"
    }
   ],
   "source": [
    "df_Houston.head()"
   ]
  },
  {
   "cell_type": "markdown",
   "metadata": {},
   "source": [
    "### 3. Methodology"
   ]
  },
  {
   "cell_type": "markdown",
   "metadata": {},
   "source": [
    "Methodology section which represents the main component of the report where you discuss and describe any exploratory data analysis that you did, any inferential statistical testing that you performed, and what machine learnings were used and why.\n",
    "\n",
    "With above data, I can use the concept of manually assigning weights to calculate a score and predict the most popular neighborhood to resolve the problem.\n",
    "\n",
    "Combine with FourSquare API which provides how many venues in different category of Schools, Universities and Offices, a matrix which captured characteristic of venues are built. Client's list is the profile to combine with the matrix to become a weighted matrix of most favorable spot.\n",
    "\n",
    "The weighted matrix can be applied on several target locations with venues information to generate a ranking result by using indexes. The the top three on the ranking list can be recommended to the client.\n",
    "\n",
    "Before building the matrix, I have to prepare the required data and apply some data analysis."
   ]
  },
  {
   "cell_type": "code",
   "execution_count": 8,
   "metadata": {},
   "outputs": [
    {
     "data": {
      "text/html": [
       "<div>\n",
       "<style scoped>\n",
       "    .dataframe tbody tr th:only-of-type {\n",
       "        vertical-align: middle;\n",
       "    }\n",
       "\n",
       "    .dataframe tbody tr th {\n",
       "        vertical-align: top;\n",
       "    }\n",
       "\n",
       "    .dataframe thead th {\n",
       "        text-align: right;\n",
       "    }\n",
       "</style>\n",
       "<table border=\"1\" class=\"dataframe\">\n",
       "  <thead>\n",
       "    <tr style=\"text-align: right;\">\n",
       "      <th></th>\n",
       "      <th>Neighborhood</th>\n",
       "      <th>lat</th>\n",
       "      <th>lng</th>\n",
       "    </tr>\n",
       "  </thead>\n",
       "  <tbody>\n",
       "    <tr>\n",
       "      <th>0</th>\n",
       "      <td>Acres Homes</td>\n",
       "      <td>29.8647</td>\n",
       "      <td>-95.4309</td>\n",
       "    </tr>\n",
       "    <tr>\n",
       "      <th>1</th>\n",
       "      <td>Alden Bridge</td>\n",
       "      <td>NAN</td>\n",
       "      <td>NAN</td>\n",
       "    </tr>\n",
       "    <tr>\n",
       "      <th>2</th>\n",
       "      <td>Alief</td>\n",
       "      <td>29.7111</td>\n",
       "      <td>-95.5963</td>\n",
       "    </tr>\n",
       "    <tr>\n",
       "      <th>3</th>\n",
       "      <td>Allendale</td>\n",
       "      <td>29.6941</td>\n",
       "      <td>-95.2463</td>\n",
       "    </tr>\n",
       "    <tr>\n",
       "      <th>4</th>\n",
       "      <td>Astrodome</td>\n",
       "      <td>29.6849</td>\n",
       "      <td>-95.4077</td>\n",
       "    </tr>\n",
       "  </tbody>\n",
       "</table>\n",
       "</div>"
      ],
      "text/plain": [
       "   Neighborhood      lat      lng\n",
       "0   Acres Homes  29.8647 -95.4309\n",
       "1  Alden Bridge      NAN      NAN\n",
       "2         Alief  29.7111 -95.5963\n",
       "3     Allendale  29.6941 -95.2463\n",
       "4     Astrodome  29.6849 -95.4077"
      ]
     },
     "execution_count": 8,
     "metadata": {},
     "output_type": "execute_result"
    }
   ],
   "source": [
    "df_Houston.head()"
   ]
  },
  {
   "cell_type": "markdown",
   "metadata": {},
   "source": [
    "Data was pre-processed in the Data section. Here we will refine the data according to our requirements and drop rows which we do not need.\n",
    "\n",
    "Since geopy was not able to find the co-ordinates of few Neighborhoods due to data not being accurate or could be any other reason, we drop those rows."
   ]
  },
  {
   "cell_type": "code",
   "execution_count": 9,
   "metadata": {},
   "outputs": [
    {
     "name": "stdout",
     "output_type": "stream",
     "text": [
      "(85, 3)\n"
     ]
    },
    {
     "data": {
      "text/html": [
       "<div>\n",
       "<style scoped>\n",
       "    .dataframe tbody tr th:only-of-type {\n",
       "        vertical-align: middle;\n",
       "    }\n",
       "\n",
       "    .dataframe tbody tr th {\n",
       "        vertical-align: top;\n",
       "    }\n",
       "\n",
       "    .dataframe thead th {\n",
       "        text-align: right;\n",
       "    }\n",
       "</style>\n",
       "<table border=\"1\" class=\"dataframe\">\n",
       "  <thead>\n",
       "    <tr style=\"text-align: right;\">\n",
       "      <th></th>\n",
       "      <th>Neighborhood</th>\n",
       "      <th>Latitude</th>\n",
       "      <th>Longitude</th>\n",
       "    </tr>\n",
       "  </thead>\n",
       "  <tbody>\n",
       "    <tr>\n",
       "      <th>0</th>\n",
       "      <td>Acres Homes</td>\n",
       "      <td>29.8647</td>\n",
       "      <td>-95.4309</td>\n",
       "    </tr>\n",
       "    <tr>\n",
       "      <th>2</th>\n",
       "      <td>Alief</td>\n",
       "      <td>29.7111</td>\n",
       "      <td>-95.5963</td>\n",
       "    </tr>\n",
       "    <tr>\n",
       "      <th>3</th>\n",
       "      <td>Allendale</td>\n",
       "      <td>29.6941</td>\n",
       "      <td>-95.2463</td>\n",
       "    </tr>\n",
       "    <tr>\n",
       "      <th>4</th>\n",
       "      <td>Astrodome</td>\n",
       "      <td>29.6849</td>\n",
       "      <td>-95.4077</td>\n",
       "    </tr>\n",
       "    <tr>\n",
       "      <th>6</th>\n",
       "      <td>Binz</td>\n",
       "      <td>29.7249</td>\n",
       "      <td>-95.3881</td>\n",
       "    </tr>\n",
       "  </tbody>\n",
       "</table>\n",
       "</div>"
      ],
      "text/plain": [
       "  Neighborhood Latitude Longitude\n",
       "0  Acres Homes  29.8647  -95.4309\n",
       "2        Alief  29.7111  -95.5963\n",
       "3    Allendale  29.6941  -95.2463\n",
       "4    Astrodome  29.6849  -95.4077\n",
       "6         Binz  29.7249  -95.3881"
      ]
     },
     "execution_count": 9,
     "metadata": {},
     "output_type": "execute_result"
    }
   ],
   "source": [
    "df_Houston = df_Houston[df_Houston['lat'] != 'NAN']\n",
    "df_Houston = df_Houston.rename(columns = {\"lat\": \"Latitude\", \"lng\": \"Longitude\"})\n",
    "print(df_Houston.shape)\n",
    "df_Houston.head()"
   ]
  },
  {
   "cell_type": "markdown",
   "metadata": {},
   "source": [
    "Now we map the houston neighborhoods using folium"
   ]
  },
  {
   "cell_type": "code",
   "execution_count": 10,
   "metadata": {},
   "outputs": [],
   "source": [
    "# create map of Houston using latitude and longitude values of the super neighborhoods\n",
    "Houston_map = folium.Map(location=[latitude, longitude], zoom_start=11)\n",
    "\n",
    "for index, row in df_Houston.iterrows():\n",
    "\n",
    "    adr = row['Neighborhood']\n",
    "    lat = row['Latitude']\n",
    "    lng = row['Longitude']\n",
    "\n",
    "    label = '{}'.format(adr)\n",
    "    label = folium.Popup(label, parse_html=True)\n",
    "    folium.CircleMarker(\n",
    "        [lat, lng],\n",
    "        radius=5,\n",
    "        popup=label,\n",
    "        color='blue',\n",
    "        fill=True,\n",
    "        fill_color='#3186cc',\n",
    "        fill_opacity=0.7,\n",
    "        parse_html=False).add_to(Houston_map)  \n",
    "\n",
    "Houston_map.save('HoustonMap_SuperNeighborhoods.html')"
   ]
  },
  {
   "cell_type": "markdown",
   "metadata": {},
   "source": [
    "From the map I can observe that the super neighborhoods are spread across the map. My next step is to use foursquare API and get the venues of those neighborhoods."
   ]
  },
  {
   "cell_type": "code",
   "execution_count": 11,
   "metadata": {},
   "outputs": [],
   "source": [
    "#Defining foursquare API credentials and limit of the venues of each neighborhood\n",
    "\n",
    "CLIENT_ID = 'ZG4PTBXMTKNZQWSFJBDJYS0ZHOLDR5BRFTJZCYL2Y3FAXMR0' # your Foursquare ID\n",
    "CLIENT_SECRET = 'BQPQT4PJPQYZVNDRCEXKLB2UI4KK1B21AFBLEP2OBOSH1IKA' # your Foursquare Secret\n",
    "VERSION = '201901201' # Foursquare API version\n",
    "\n",
    "Limit = 300 # limit of number of venues returned by Foursquare API\n",
    "radius = 750 # define radius"
   ]
  },
  {
   "cell_type": "markdown",
   "metadata": {},
   "source": [
    "##### Defining a function to get the nearby venues of each neighbourhood using foursquare API"
   ]
  },
  {
   "cell_type": "code",
   "execution_count": 12,
   "metadata": {},
   "outputs": [],
   "source": [
    "def getNearbyVenues(names, latitudes, longitudes, radius=750, categoryIds=''):\n",
    "    \n",
    "    venues_list=[]\n",
    "    print('Venues for the Houston Neighborhoods are being retrieved:')\n",
    "    for name, lat, lng in zip(names, latitudes, longitudes):\n",
    "\n",
    "            \n",
    "        # creating an API request URL\n",
    "        url = 'https://api.foursquare.com/v2/venues/explore?&client_id={}&client_secret={}&v={}&ll={},{}&radius={}&limit={}'.format(\n",
    "            CLIENT_ID, \n",
    "            CLIENT_SECRET, \n",
    "            VERSION, \n",
    "            lat, \n",
    "            lng, \n",
    "            radius, \n",
    "            Limit)\n",
    "        \n",
    "        if(categoryIds!=''):\n",
    "            url = url+'&categoryId={}'\n",
    "            url = url.format(categoryIds)\n",
    "        \n",
    "        #Get Request\n",
    "        results = requests.get(url).json()['response']['groups'][0]['items']\n",
    "        \n",
    "        venues_list.append([(\n",
    "                   name, \n",
    "                   lat, \n",
    "                   lng, \n",
    "                   v['venue']['name'], \n",
    "                   v['venue']['location']['lat'], \n",
    "                   v['venue']['location']['lng'],\n",
    "                   v['venue']['categories'][0]['id'],\n",
    "                   v['venue']['categories'][0]['name']) for v in results])\n",
    "\n",
    "    nearby_venues = pd.DataFrame([item for venue_list in venues_list for item in venue_list])\n",
    "    nearby_venues.columns = ['Neighborhood', \n",
    "                  'Neighborhood Latitude', \n",
    "                  'Neighborhood Longitude', \n",
    "                  'Venue', \n",
    "                  'Venue Latitude', \n",
    "                  'Venue Longitude',\n",
    "                  'Venue ID',\n",
    "                  'Venue Category']\n",
    "    print('Data Retrieved')    \n",
    "    return(nearby_venues)\n",
    "\n"
   ]
  },
  {
   "cell_type": "markdown",
   "metadata": {},
   "source": [
    "##### Defining a function to add markers for given venues to map"
   ]
  },
  {
   "cell_type": "code",
   "execution_count": 13,
   "metadata": {},
   "outputs": [],
   "source": [
    "\n",
    "def addToMap(df, color, existingMap):\n",
    "    for lat, lng, local, venue, venueCat in zip(df['Venue Latitude'], df['Venue Longitude'], df['Neighborhood'], df['Venue'], df['Venue Category']):\n",
    "        label = '{} ({}) - {}'.format(venue, venueCat, local)\n",
    "        label = folium.Popup(label, parse_html=True)\n",
    "        folium.CircleMarker(\n",
    "            [lat, lng],\n",
    "            radius=5,\n",
    "            popup=label,\n",
    "            color=color,\n",
    "            fill=True,\n",
    "            fill_color=color,\n",
    "            fill_opacity=0.7).add_to(existingMap)"
   ]
  },
  {
   "cell_type": "markdown",
   "metadata": {},
   "source": [
    "##### Now we retrieve specific venues by passing the category IDs. Category IDs are listed in the following Foursquare API documentation.\n",
    "\n",
    "https://developer.foursquare.com/docs/resources/categories"
   ]
  },
  {
   "cell_type": "code",
   "execution_count": 14,
   "metadata": {},
   "outputs": [
    {
     "name": "stdout",
     "output_type": "stream",
     "text": [
      "Venues for the Houston Neighborhoods are being retrieved:\n",
      "Data Retrieved\n"
     ]
    }
   ],
   "source": [
    "#Retrieving the data for the neighbourhoods to get only food trucks \n",
    "\n",
    "houston_Venues_FoodTruck = getNearbyVenues(names=df_Houston['Neighborhood'],\n",
    "                                        latitudes=df_Houston['Latitude'],\n",
    "                                        longitudes=df_Houston['Longitude'],\n",
    "                                         radius=750,\n",
    "                                         categoryIds='4bf58dd8d48988d1cb941735'\n",
    "                                )"
   ]
  },
  {
   "cell_type": "code",
   "execution_count": 15,
   "metadata": {},
   "outputs": [
    {
     "name": "stdout",
     "output_type": "stream",
     "text": [
      "(172, 8)\n"
     ]
    },
    {
     "data": {
      "text/html": [
       "<div>\n",
       "<style scoped>\n",
       "    .dataframe tbody tr th:only-of-type {\n",
       "        vertical-align: middle;\n",
       "    }\n",
       "\n",
       "    .dataframe tbody tr th {\n",
       "        vertical-align: top;\n",
       "    }\n",
       "\n",
       "    .dataframe thead th {\n",
       "        text-align: right;\n",
       "    }\n",
       "</style>\n",
       "<table border=\"1\" class=\"dataframe\">\n",
       "  <thead>\n",
       "    <tr style=\"text-align: right;\">\n",
       "      <th></th>\n",
       "      <th>Neighborhood</th>\n",
       "      <th>Neighborhood Latitude</th>\n",
       "      <th>Neighborhood Longitude</th>\n",
       "      <th>Venue</th>\n",
       "      <th>Venue Latitude</th>\n",
       "      <th>Venue Longitude</th>\n",
       "      <th>Venue ID</th>\n",
       "      <th>Venue Category</th>\n",
       "    </tr>\n",
       "  </thead>\n",
       "  <tbody>\n",
       "    <tr>\n",
       "      <th>0</th>\n",
       "      <td>Allendale</td>\n",
       "      <td>1</td>\n",
       "      <td>1</td>\n",
       "      <td>1</td>\n",
       "      <td>1</td>\n",
       "      <td>1</td>\n",
       "      <td>1</td>\n",
       "      <td>1</td>\n",
       "    </tr>\n",
       "    <tr>\n",
       "      <th>1</th>\n",
       "      <td>Third Ward</td>\n",
       "      <td>1</td>\n",
       "      <td>1</td>\n",
       "      <td>1</td>\n",
       "      <td>1</td>\n",
       "      <td>1</td>\n",
       "      <td>1</td>\n",
       "      <td>1</td>\n",
       "    </tr>\n",
       "    <tr>\n",
       "      <th>2</th>\n",
       "      <td>Spring</td>\n",
       "      <td>1</td>\n",
       "      <td>1</td>\n",
       "      <td>1</td>\n",
       "      <td>1</td>\n",
       "      <td>1</td>\n",
       "      <td>1</td>\n",
       "      <td>1</td>\n",
       "    </tr>\n",
       "    <tr>\n",
       "      <th>3</th>\n",
       "      <td>South Acres</td>\n",
       "      <td>1</td>\n",
       "      <td>1</td>\n",
       "      <td>1</td>\n",
       "      <td>1</td>\n",
       "      <td>1</td>\n",
       "      <td>1</td>\n",
       "      <td>1</td>\n",
       "    </tr>\n",
       "    <tr>\n",
       "      <th>4</th>\n",
       "      <td>Park Place</td>\n",
       "      <td>1</td>\n",
       "      <td>1</td>\n",
       "      <td>1</td>\n",
       "      <td>1</td>\n",
       "      <td>1</td>\n",
       "      <td>1</td>\n",
       "      <td>1</td>\n",
       "    </tr>\n",
       "  </tbody>\n",
       "</table>\n",
       "</div>"
      ],
      "text/plain": [
       "  Neighborhood  Neighborhood Latitude  Neighborhood Longitude  Venue  \\\n",
       "0    Allendale                      1                       1      1   \n",
       "1   Third Ward                      1                       1      1   \n",
       "2       Spring                      1                       1      1   \n",
       "3  South Acres                      1                       1      1   \n",
       "4   Park Place                      1                       1      1   \n",
       "\n",
       "   Venue Latitude  Venue Longitude  Venue ID  Venue Category  \n",
       "0               1                1         1               1  \n",
       "1               1                1         1               1  \n",
       "2               1                1         1               1  \n",
       "3               1                1         1               1  \n",
       "4               1                1         1               1  "
      ]
     },
     "execution_count": 15,
     "metadata": {},
     "output_type": "execute_result"
    }
   ],
   "source": [
    "print(houston_Venues_FoodTruck.shape)\n",
    "houston_Venues_FoodTruck_grouped = houston_Venues_FoodTruck.groupby('Neighborhood').count().sort_values(by=['Venue']).reset_index()\n",
    "houston_Venues_FoodTruck_grouped.head()"
   ]
  },
  {
   "cell_type": "code",
   "execution_count": 39,
   "metadata": {},
   "outputs": [
    {
     "data": {
      "text/plain": [
       "<matplotlib.axes._subplots.AxesSubplot at 0x7fe81755bf98>"
      ]
     },
     "execution_count": 39,
     "metadata": {},
     "output_type": "execute_result"
    },
    {
     "data": {
      "image/png": "[encoded data removed]",
      "text/plain": [
       "<Figure size 1440x720 with 1 Axes>"
      ]
     },
     "metadata": {
      "needs_background": "light"
     },
     "output_type": "display_data"
    }
   ],
   "source": [
    "houston_Venues_FoodTruck_grouped.plot.bar(x='Neighborhood'\n",
    "                                          , y = 'Venue'\n",
    "                                          , rot =90\n",
    "                                          , figsize=(20, 10)\n",
    "                                          , title='Count of Food Trucks by Neighborhood'\n",
    "                                         )\n"
   ]
  },
  {
   "cell_type": "markdown",
   "metadata": {},
   "source": [
    "From the bar graph above we can observe that the count of food trucks is high in the following Neighborhoods,\n",
    "1. Binz\n",
    "2. Museum District \n",
    "3. Medical center\n",
    "\n",
    "But this information is not sufficient. We will be retrieving the data for the following venues with schools, universities, offices, public parks and additional information if required."
   ]
  },
  {
   "cell_type": "code",
   "execution_count": 17,
   "metadata": {},
   "outputs": [
    {
     "name": "stdout",
     "output_type": "stream",
     "text": [
      "Venues for the Houston Neighborhoods are being retrieved:\n",
      "Data Retrieved\n"
     ]
    }
   ],
   "source": [
    "#Retrieving the data for the neighbourhoods to get only Schools\n",
    "\n",
    "houston_Venues_Schools = getNearbyVenues(names=df_Houston['Neighborhood'],\n",
    "                                        latitudes=df_Houston['Latitude'],\n",
    "                                        longitudes=df_Houston['Longitude'],\n",
    "                                         radius=1500,\n",
    "                                         categoryIds='4bf58dd8d48988d13d941735'\n",
    "                                )"
   ]
  },
  {
   "cell_type": "code",
   "execution_count": 18,
   "metadata": {},
   "outputs": [
    {
     "name": "stdout",
     "output_type": "stream",
     "text": [
      "(255, 8)\n"
     ]
    },
    {
     "data": {
      "text/html": [
       "<div>\n",
       "<style scoped>\n",
       "    .dataframe tbody tr th:only-of-type {\n",
       "        vertical-align: middle;\n",
       "    }\n",
       "\n",
       "    .dataframe tbody tr th {\n",
       "        vertical-align: top;\n",
       "    }\n",
       "\n",
       "    .dataframe thead th {\n",
       "        text-align: right;\n",
       "    }\n",
       "</style>\n",
       "<table border=\"1\" class=\"dataframe\">\n",
       "  <thead>\n",
       "    <tr style=\"text-align: right;\">\n",
       "      <th></th>\n",
       "      <th>Neighborhood</th>\n",
       "      <th>Neighborhood Latitude</th>\n",
       "      <th>Neighborhood Longitude</th>\n",
       "      <th>Venue</th>\n",
       "      <th>Venue Latitude</th>\n",
       "      <th>Venue Longitude</th>\n",
       "      <th>Venue ID</th>\n",
       "      <th>Venue Category</th>\n",
       "    </tr>\n",
       "  </thead>\n",
       "  <tbody>\n",
       "    <tr>\n",
       "      <th>0</th>\n",
       "      <td>Acres Homes</td>\n",
       "      <td>29.864718</td>\n",
       "      <td>-95.430858</td>\n",
       "      <td>Williams High School</td>\n",
       "      <td>29.853281</td>\n",
       "      <td>-95.423828</td>\n",
       "      <td>4bf58dd8d48988d13d941735</td>\n",
       "      <td>High School</td>\n",
       "    </tr>\n",
       "    <tr>\n",
       "      <th>1</th>\n",
       "      <td>Alief</td>\n",
       "      <td>29.711064</td>\n",
       "      <td>-95.596334</td>\n",
       "      <td>Hastings High School - Alief ISD</td>\n",
       "      <td>29.709626</td>\n",
       "      <td>-95.597551</td>\n",
       "      <td>4bf58dd8d48988d13d941735</td>\n",
       "      <td>High School</td>\n",
       "    </tr>\n",
       "    <tr>\n",
       "      <th>2</th>\n",
       "      <td>Alief</td>\n",
       "      <td>29.711064</td>\n",
       "      <td>-95.596334</td>\n",
       "      <td>Hastings Ninth Grade center</td>\n",
       "      <td>29.706338</td>\n",
       "      <td>-95.598372</td>\n",
       "      <td>4bf58dd8d48988d13d941735</td>\n",
       "      <td>High School</td>\n",
       "    </tr>\n",
       "    <tr>\n",
       "      <th>3</th>\n",
       "      <td>Alief</td>\n",
       "      <td>29.711064</td>\n",
       "      <td>-95.596334</td>\n",
       "      <td>Elsik High School</td>\n",
       "      <td>29.709747</td>\n",
       "      <td>-95.603051</td>\n",
       "      <td>4bf58dd8d48988d13d941735</td>\n",
       "      <td>High School</td>\n",
       "    </tr>\n",
       "    <tr>\n",
       "      <th>4</th>\n",
       "      <td>Alief</td>\n",
       "      <td>29.711064</td>\n",
       "      <td>-95.596334</td>\n",
       "      <td>Hastings Ninth Grade Center - Alief ISD</td>\n",
       "      <td>29.706800</td>\n",
       "      <td>-95.603472</td>\n",
       "      <td>4bf58dd8d48988d13d941735</td>\n",
       "      <td>High School</td>\n",
       "    </tr>\n",
       "  </tbody>\n",
       "</table>\n",
       "</div>"
      ],
      "text/plain": [
       "  Neighborhood  Neighborhood Latitude  Neighborhood Longitude  \\\n",
       "0  Acres Homes              29.864718              -95.430858   \n",
       "1        Alief              29.711064              -95.596334   \n",
       "2        Alief              29.711064              -95.596334   \n",
       "3        Alief              29.711064              -95.596334   \n",
       "4        Alief              29.711064              -95.596334   \n",
       "\n",
       "                                     Venue  Venue Latitude  Venue Longitude  \\\n",
       "0                     Williams High School       29.853281       -95.423828   \n",
       "1         Hastings High School - Alief ISD       29.709626       -95.597551   \n",
       "2              Hastings Ninth Grade center       29.706338       -95.598372   \n",
       "3                        Elsik High School       29.709747       -95.603051   \n",
       "4  Hastings Ninth Grade Center - Alief ISD       29.706800       -95.603472   \n",
       "\n",
       "                   Venue ID Venue Category  \n",
       "0  4bf58dd8d48988d13d941735    High School  \n",
       "1  4bf58dd8d48988d13d941735    High School  \n",
       "2  4bf58dd8d48988d13d941735    High School  \n",
       "3  4bf58dd8d48988d13d941735    High School  \n",
       "4  4bf58dd8d48988d13d941735    High School  "
      ]
     },
     "execution_count": 18,
     "metadata": {},
     "output_type": "execute_result"
    }
   ],
   "source": [
    "print(houston_Venues_Schools.shape)\n",
    "houston_Venues_Schools.head()"
   ]
  },
  {
   "cell_type": "code",
   "execution_count": 19,
   "metadata": {},
   "outputs": [],
   "source": [
    "map_houston_schools = folium.Map(location=[latitude, longitude], zoom_start=12)\n",
    "addToMap(houston_Venues_Schools, 'green', map_houston_schools)\n",
    "map_houston_schools.save('map_houston_schools.html')"
   ]
  },
  {
   "cell_type": "code",
   "execution_count": 20,
   "metadata": {},
   "outputs": [
    {
     "name": "stdout",
     "output_type": "stream",
     "text": [
      "Venues for the Houston Neighborhoods are being retrieved:\n",
      "Data Retrieved\n"
     ]
    }
   ],
   "source": [
    "#Retrieving the data for the neighbourhoods to get only Universities\n",
    "\n",
    "houston_Venues_University = getNearbyVenues(names=df_Houston['Neighborhood'],\n",
    "                                        latitudes=df_Houston['Latitude'],\n",
    "                                        longitudes=df_Houston['Longitude'],\n",
    "                                         radius=1500,\n",
    "                                         categoryIds='4bf58dd8d48988d1ae941735'\n",
    "                                )"
   ]
  },
  {
   "cell_type": "code",
   "execution_count": 21,
   "metadata": {},
   "outputs": [
    {
     "name": "stdout",
     "output_type": "stream",
     "text": [
      "(130, 8)\n"
     ]
    },
    {
     "data": {
      "text/html": [
       "<div>\n",
       "<style scoped>\n",
       "    .dataframe tbody tr th:only-of-type {\n",
       "        vertical-align: middle;\n",
       "    }\n",
       "\n",
       "    .dataframe tbody tr th {\n",
       "        vertical-align: top;\n",
       "    }\n",
       "\n",
       "    .dataframe thead th {\n",
       "        text-align: right;\n",
       "    }\n",
       "</style>\n",
       "<table border=\"1\" class=\"dataframe\">\n",
       "  <thead>\n",
       "    <tr style=\"text-align: right;\">\n",
       "      <th></th>\n",
       "      <th>Neighborhood</th>\n",
       "      <th>Neighborhood Latitude</th>\n",
       "      <th>Neighborhood Longitude</th>\n",
       "      <th>Venue</th>\n",
       "      <th>Venue Latitude</th>\n",
       "      <th>Venue Longitude</th>\n",
       "      <th>Venue ID</th>\n",
       "      <th>Venue Category</th>\n",
       "    </tr>\n",
       "  </thead>\n",
       "  <tbody>\n",
       "    <tr>\n",
       "      <th>0</th>\n",
       "      <td>Astrodome</td>\n",
       "      <td>29.684870</td>\n",
       "      <td>-95.407743</td>\n",
       "      <td>SHSU Agriculture Alumni Booth HLSR</td>\n",
       "      <td>29.686533</td>\n",
       "      <td>-95.405697</td>\n",
       "      <td>4bf58dd8d48988d1ae941735</td>\n",
       "      <td>University</td>\n",
       "    </tr>\n",
       "    <tr>\n",
       "      <th>1</th>\n",
       "      <td>Binz</td>\n",
       "      <td>29.724918</td>\n",
       "      <td>-95.388131</td>\n",
       "      <td>RICE george R brown school of engineering</td>\n",
       "      <td>29.721471</td>\n",
       "      <td>-95.393322</td>\n",
       "      <td>4bf58dd8d48988d1ae941735</td>\n",
       "      <td>University</td>\n",
       "    </tr>\n",
       "    <tr>\n",
       "      <th>2</th>\n",
       "      <td>Binz</td>\n",
       "      <td>29.724918</td>\n",
       "      <td>-95.388131</td>\n",
       "      <td>Community Cinema @ Rice Cinema</td>\n",
       "      <td>29.720576</td>\n",
       "      <td>-95.393665</td>\n",
       "      <td>4bf58dd8d48988d1ae941735</td>\n",
       "      <td>University</td>\n",
       "    </tr>\n",
       "    <tr>\n",
       "      <th>3</th>\n",
       "      <td>Binz</td>\n",
       "      <td>29.724918</td>\n",
       "      <td>-95.388131</td>\n",
       "      <td>President's House (Rice University)</td>\n",
       "      <td>29.721176</td>\n",
       "      <td>-95.394520</td>\n",
       "      <td>4bf58dd8d48988d1ae941735</td>\n",
       "      <td>University</td>\n",
       "    </tr>\n",
       "    <tr>\n",
       "      <th>4</th>\n",
       "      <td>Binz</td>\n",
       "      <td>29.724918</td>\n",
       "      <td>-95.388131</td>\n",
       "      <td>Entrance 1 Drive</td>\n",
       "      <td>29.720385</td>\n",
       "      <td>-95.393939</td>\n",
       "      <td>4bf58dd8d48988d1ae941735</td>\n",
       "      <td>University</td>\n",
       "    </tr>\n",
       "  </tbody>\n",
       "</table>\n",
       "</div>"
      ],
      "text/plain": [
       "  Neighborhood  Neighborhood Latitude  Neighborhood Longitude  \\\n",
       "0    Astrodome              29.684870              -95.407743   \n",
       "1         Binz              29.724918              -95.388131   \n",
       "2         Binz              29.724918              -95.388131   \n",
       "3         Binz              29.724918              -95.388131   \n",
       "4         Binz              29.724918              -95.388131   \n",
       "\n",
       "                                       Venue  Venue Latitude  Venue Longitude  \\\n",
       "0         SHSU Agriculture Alumni Booth HLSR       29.686533       -95.405697   \n",
       "1  RICE george R brown school of engineering       29.721471       -95.393322   \n",
       "2             Community Cinema @ Rice Cinema       29.720576       -95.393665   \n",
       "3        President's House (Rice University)       29.721176       -95.394520   \n",
       "4                           Entrance 1 Drive       29.720385       -95.393939   \n",
       "\n",
       "                   Venue ID Venue Category  \n",
       "0  4bf58dd8d48988d1ae941735     University  \n",
       "1  4bf58dd8d48988d1ae941735     University  \n",
       "2  4bf58dd8d48988d1ae941735     University  \n",
       "3  4bf58dd8d48988d1ae941735     University  \n",
       "4  4bf58dd8d48988d1ae941735     University  "
      ]
     },
     "execution_count": 21,
     "metadata": {},
     "output_type": "execute_result"
    }
   ],
   "source": [
    "print(houston_Venues_University.shape)\n",
    "houston_Venues_University.head()"
   ]
  },
  {
   "cell_type": "code",
   "execution_count": 22,
   "metadata": {},
   "outputs": [],
   "source": [
    "map_houston_university = folium.Map(location=[latitude, longitude], zoom_start=12)\n",
    "addToMap(houston_Venues_University, 'red', map_houston_university )\n",
    "map_houston_university.save('map_houston_university.html')"
   ]
  },
  {
   "cell_type": "code",
   "execution_count": 24,
   "metadata": {},
   "outputs": [
    {
     "name": "stdout",
     "output_type": "stream",
     "text": [
      "Venues for the Houston Neighborhoods are being retrieved:\n",
      "Data Retrieved\n"
     ]
    }
   ],
   "source": [
    "#Retrieving the data for the neighbourhoods to get only Offices\n",
    "\n",
    "houston_Venues_Offices = getNearbyVenues(names=df_Houston['Neighborhood'],\n",
    "                                        latitudes=df_Houston['Latitude'],\n",
    "                                        longitudes=df_Houston['Longitude'],\n",
    "                                         radius=2000,\n",
    "                                         categoryIds='4d4b7105d754a06375d81259'\n",
    "                                )"
   ]
  },
  {
   "cell_type": "code",
   "execution_count": 25,
   "metadata": {},
   "outputs": [
    {
     "name": "stdout",
     "output_type": "stream",
     "text": [
      "(5583, 8)\n"
     ]
    },
    {
     "data": {
      "text/html": [
       "<div>\n",
       "<style scoped>\n",
       "    .dataframe tbody tr th:only-of-type {\n",
       "        vertical-align: middle;\n",
       "    }\n",
       "\n",
       "    .dataframe tbody tr th {\n",
       "        vertical-align: top;\n",
       "    }\n",
       "\n",
       "    .dataframe thead th {\n",
       "        text-align: right;\n",
       "    }\n",
       "</style>\n",
       "<table border=\"1\" class=\"dataframe\">\n",
       "  <thead>\n",
       "    <tr style=\"text-align: right;\">\n",
       "      <th></th>\n",
       "      <th>Neighborhood</th>\n",
       "      <th>Neighborhood Latitude</th>\n",
       "      <th>Neighborhood Longitude</th>\n",
       "      <th>Venue</th>\n",
       "      <th>Venue Latitude</th>\n",
       "      <th>Venue Longitude</th>\n",
       "      <th>Venue ID</th>\n",
       "      <th>Venue Category</th>\n",
       "    </tr>\n",
       "  </thead>\n",
       "  <tbody>\n",
       "    <tr>\n",
       "      <th>0</th>\n",
       "      <td>Acres Homes</td>\n",
       "      <td>29.864718</td>\n",
       "      <td>-95.430858</td>\n",
       "      <td>In Da Hood</td>\n",
       "      <td>29.871020</td>\n",
       "      <td>-95.426033</td>\n",
       "      <td>4d4b7105d754a06375d81259</td>\n",
       "      <td>Professional &amp; Other Places</td>\n",
       "    </tr>\n",
       "    <tr>\n",
       "      <th>1</th>\n",
       "      <td>Acres Homes</td>\n",
       "      <td>29.864718</td>\n",
       "      <td>-95.430858</td>\n",
       "      <td>Mobile 4G Wireless Internet Access from CLEAR</td>\n",
       "      <td>29.863088</td>\n",
       "      <td>-95.425444</td>\n",
       "      <td>4bf58dd8d48988d124941735</td>\n",
       "      <td>Office</td>\n",
       "    </tr>\n",
       "    <tr>\n",
       "      <th>2</th>\n",
       "      <td>Acres Homes</td>\n",
       "      <td>29.864718</td>\n",
       "      <td>-95.430858</td>\n",
       "      <td>Champion Rentals Inc</td>\n",
       "      <td>29.862319</td>\n",
       "      <td>-95.413011</td>\n",
       "      <td>4bf58dd8d48988d124941735</td>\n",
       "      <td>Office</td>\n",
       "    </tr>\n",
       "    <tr>\n",
       "      <th>3</th>\n",
       "      <td>Acres Homes</td>\n",
       "      <td>29.864718</td>\n",
       "      <td>-95.430858</td>\n",
       "      <td>Archie B. Anderson Academy</td>\n",
       "      <td>29.867489</td>\n",
       "      <td>-95.430381</td>\n",
       "      <td>4bf58dd8d48988d13b941735</td>\n",
       "      <td>School</td>\n",
       "    </tr>\n",
       "    <tr>\n",
       "      <th>4</th>\n",
       "      <td>Acres Homes</td>\n",
       "      <td>29.864718</td>\n",
       "      <td>-95.430858</td>\n",
       "      <td>US Post Office</td>\n",
       "      <td>29.869515</td>\n",
       "      <td>-95.413999</td>\n",
       "      <td>4bf58dd8d48988d172941735</td>\n",
       "      <td>Post Office</td>\n",
       "    </tr>\n",
       "  </tbody>\n",
       "</table>\n",
       "</div>"
      ],
      "text/plain": [
       "  Neighborhood  Neighborhood Latitude  Neighborhood Longitude  \\\n",
       "0  Acres Homes              29.864718              -95.430858   \n",
       "1  Acres Homes              29.864718              -95.430858   \n",
       "2  Acres Homes              29.864718              -95.430858   \n",
       "3  Acres Homes              29.864718              -95.430858   \n",
       "4  Acres Homes              29.864718              -95.430858   \n",
       "\n",
       "                                           Venue  Venue Latitude  \\\n",
       "0                                     In Da Hood       29.871020   \n",
       "1  Mobile 4G Wireless Internet Access from CLEAR       29.863088   \n",
       "2                           Champion Rentals Inc       29.862319   \n",
       "3                     Archie B. Anderson Academy       29.867489   \n",
       "4                                 US Post Office       29.869515   \n",
       "\n",
       "   Venue Longitude                  Venue ID               Venue Category  \n",
       "0       -95.426033  4d4b7105d754a06375d81259  Professional & Other Places  \n",
       "1       -95.425444  4bf58dd8d48988d124941735                       Office  \n",
       "2       -95.413011  4bf58dd8d48988d124941735                       Office  \n",
       "3       -95.430381  4bf58dd8d48988d13b941735                       School  \n",
       "4       -95.413999  4bf58dd8d48988d172941735                  Post Office  "
      ]
     },
     "execution_count": 25,
     "metadata": {},
     "output_type": "execute_result"
    }
   ],
   "source": [
    "print(houston_Venues_Offices.shape)\n",
    "houston_Venues_Offices.head()"
   ]
  },
  {
   "cell_type": "code",
   "execution_count": 26,
   "metadata": {},
   "outputs": [],
   "source": [
    "map_houston_office = folium.Map(location=[latitude, longitude], zoom_start=12)\n",
    "addToMap(houston_Venues_Offices, 'blue', map_houston_office )\n",
    "map_houston_office.save('map_houston_office.html')"
   ]
  },
  {
   "cell_type": "code",
   "execution_count": 27,
   "metadata": {},
   "outputs": [
    {
     "name": "stdout",
     "output_type": "stream",
     "text": [
      "Venues for the Houston Neighborhoods are being retrieved:\n",
      "Data Retrieved\n"
     ]
    }
   ],
   "source": [
    "#Retrieving the data for the neighbourhoods to get only Shopping Mall\n",
    "\n",
    "houston_Venues_ShoppingMall = getNearbyVenues(names=df_Houston['Neighborhood'],\n",
    "                                        latitudes=df_Houston['Latitude'],\n",
    "                                        longitudes=df_Houston['Longitude'],\n",
    "                                         radius=500,\n",
    "                                         categoryIds='4bf58dd8d48988d1fd941735'\n",
    "                                )\n"
   ]
  },
  {
   "cell_type": "code",
   "execution_count": 28,
   "metadata": {},
   "outputs": [
    {
     "name": "stdout",
     "output_type": "stream",
     "text": [
      "(10, 8)\n"
     ]
    },
    {
     "data": {
      "text/html": [
       "<div>\n",
       "<style scoped>\n",
       "    .dataframe tbody tr th:only-of-type {\n",
       "        vertical-align: middle;\n",
       "    }\n",
       "\n",
       "    .dataframe tbody tr th {\n",
       "        vertical-align: top;\n",
       "    }\n",
       "\n",
       "    .dataframe thead th {\n",
       "        text-align: right;\n",
       "    }\n",
       "</style>\n",
       "<table border=\"1\" class=\"dataframe\">\n",
       "  <thead>\n",
       "    <tr style=\"text-align: right;\">\n",
       "      <th></th>\n",
       "      <th>Neighborhood</th>\n",
       "      <th>Neighborhood Latitude</th>\n",
       "      <th>Neighborhood Longitude</th>\n",
       "      <th>Venue</th>\n",
       "      <th>Venue Latitude</th>\n",
       "      <th>Venue Longitude</th>\n",
       "      <th>Venue ID</th>\n",
       "      <th>Venue Category</th>\n",
       "    </tr>\n",
       "  </thead>\n",
       "  <tbody>\n",
       "    <tr>\n",
       "      <th>0</th>\n",
       "      <td>Creekside Park</td>\n",
       "      <td>32.804376</td>\n",
       "      <td>-79.891047</td>\n",
       "      <td>Village Pointe Shopping Center</td>\n",
       "      <td>32.802445</td>\n",
       "      <td>-79.891244</td>\n",
       "      <td>4bf58dd8d48988d1fd941735</td>\n",
       "      <td>Shopping Mall</td>\n",
       "    </tr>\n",
       "    <tr>\n",
       "      <th>1</th>\n",
       "      <td>Medical Center</td>\n",
       "      <td>29.758938</td>\n",
       "      <td>-95.367697</td>\n",
       "      <td>Houston Tunnels</td>\n",
       "      <td>29.758460</td>\n",
       "      <td>-95.365293</td>\n",
       "      <td>4bf58dd8d48988d1fd941735</td>\n",
       "      <td>Shopping Mall</td>\n",
       "    </tr>\n",
       "    <tr>\n",
       "      <th>2</th>\n",
       "      <td>Medical Center</td>\n",
       "      <td>29.758938</td>\n",
       "      <td>-95.367697</td>\n",
       "      <td>Wedge International Tower</td>\n",
       "      <td>29.754994</td>\n",
       "      <td>-95.369960</td>\n",
       "      <td>4bf58dd8d48988d130941735</td>\n",
       "      <td>Building</td>\n",
       "    </tr>\n",
       "    <tr>\n",
       "      <th>3</th>\n",
       "      <td>Pemberton</td>\n",
       "      <td>29.758938</td>\n",
       "      <td>-95.367697</td>\n",
       "      <td>Houston Tunnels</td>\n",
       "      <td>29.758460</td>\n",
       "      <td>-95.365293</td>\n",
       "      <td>4bf58dd8d48988d1fd941735</td>\n",
       "      <td>Shopping Mall</td>\n",
       "    </tr>\n",
       "    <tr>\n",
       "      <th>4</th>\n",
       "      <td>Pemberton</td>\n",
       "      <td>29.758938</td>\n",
       "      <td>-95.367697</td>\n",
       "      <td>Wedge International Tower</td>\n",
       "      <td>29.754994</td>\n",
       "      <td>-95.369960</td>\n",
       "      <td>4bf58dd8d48988d130941735</td>\n",
       "      <td>Building</td>\n",
       "    </tr>\n",
       "  </tbody>\n",
       "</table>\n",
       "</div>"
      ],
      "text/plain": [
       "     Neighborhood  Neighborhood Latitude  Neighborhood Longitude  \\\n",
       "0  Creekside Park              32.804376              -79.891047   \n",
       "1  Medical Center              29.758938              -95.367697   \n",
       "2  Medical Center              29.758938              -95.367697   \n",
       "3       Pemberton              29.758938              -95.367697   \n",
       "4       Pemberton              29.758938              -95.367697   \n",
       "\n",
       "                            Venue  Venue Latitude  Venue Longitude  \\\n",
       "0  Village Pointe Shopping Center       32.802445       -79.891244   \n",
       "1                 Houston Tunnels       29.758460       -95.365293   \n",
       "2       Wedge International Tower       29.754994       -95.369960   \n",
       "3                 Houston Tunnels       29.758460       -95.365293   \n",
       "4       Wedge International Tower       29.754994       -95.369960   \n",
       "\n",
       "                   Venue ID Venue Category  \n",
       "0  4bf58dd8d48988d1fd941735  Shopping Mall  \n",
       "1  4bf58dd8d48988d1fd941735  Shopping Mall  \n",
       "2  4bf58dd8d48988d130941735       Building  \n",
       "3  4bf58dd8d48988d1fd941735  Shopping Mall  \n",
       "4  4bf58dd8d48988d130941735       Building  "
      ]
     },
     "execution_count": 28,
     "metadata": {},
     "output_type": "execute_result"
    }
   ],
   "source": [
    "print(houston_Venues_ShoppingMall.shape)\n",
    "houston_Venues_ShoppingMall.head()"
   ]
  },
  {
   "cell_type": "code",
   "execution_count": 40,
   "metadata": {},
   "outputs": [],
   "source": [
    "map_houston_mall = folium.Map(location=[latitude, longitude], zoom_start=12)\n",
    "addToMap(houston_Venues_ShoppingMall, 'yellow', map_houston_mall )\n",
    "map_houston_mall.save('map_houston_mall.html')"
   ]
  },
  {
   "cell_type": "markdown",
   "metadata": {},
   "source": [
    "Now we have the most visited or busiest places among the neighborhoods. Next step is to merge the columns."
   ]
  },
  {
   "cell_type": "code",
   "execution_count": 30,
   "metadata": {},
   "outputs": [],
   "source": [
    "def addColumn(startDf, columnTitle, dataDf):\n",
    "    grouped = dataDf.groupby('Neighborhood').count()\n",
    "    \n",
    "    for n in startDf['Neighborhood']:\n",
    "        try:\n",
    "            startDf.loc[startDf['Neighborhood'] == n,columnTitle] = grouped.loc[n, 'Venue']\n",
    "        except:\n",
    "            startDf.loc[startDf['Neighborhood'] == n,columnTitle] = 0"
   ]
  },
  {
   "cell_type": "code",
   "execution_count": 31,
   "metadata": {},
   "outputs": [
    {
     "data": {
      "text/html": [
       "<div>\n",
       "<style scoped>\n",
       "    .dataframe tbody tr th:only-of-type {\n",
       "        vertical-align: middle;\n",
       "    }\n",
       "\n",
       "    .dataframe tbody tr th {\n",
       "        vertical-align: top;\n",
       "    }\n",
       "\n",
       "    .dataframe thead th {\n",
       "        text-align: right;\n",
       "    }\n",
       "</style>\n",
       "<table border=\"1\" class=\"dataframe\">\n",
       "  <thead>\n",
       "    <tr style=\"text-align: right;\">\n",
       "      <th></th>\n",
       "      <th>Neighborhood</th>\n",
       "      <th>Latitude</th>\n",
       "      <th>Longitude</th>\n",
       "      <th>Schools</th>\n",
       "      <th>University</th>\n",
       "      <th>Offices</th>\n",
       "      <th>Shopping Mall</th>\n",
       "      <th>Food Truck</th>\n",
       "    </tr>\n",
       "  </thead>\n",
       "  <tbody>\n",
       "    <tr>\n",
       "      <th>0</th>\n",
       "      <td>Acres Homes</td>\n",
       "      <td>29.8647</td>\n",
       "      <td>-95.4309</td>\n",
       "      <td>1.0</td>\n",
       "      <td>0.0</td>\n",
       "      <td>33.0</td>\n",
       "      <td>0.0</td>\n",
       "      <td>0.0</td>\n",
       "    </tr>\n",
       "    <tr>\n",
       "      <th>2</th>\n",
       "      <td>Alief</td>\n",
       "      <td>29.7111</td>\n",
       "      <td>-95.5963</td>\n",
       "      <td>4.0</td>\n",
       "      <td>0.0</td>\n",
       "      <td>79.0</td>\n",
       "      <td>0.0</td>\n",
       "      <td>0.0</td>\n",
       "    </tr>\n",
       "    <tr>\n",
       "      <th>3</th>\n",
       "      <td>Allendale</td>\n",
       "      <td>29.6941</td>\n",
       "      <td>-95.2463</td>\n",
       "      <td>3.0</td>\n",
       "      <td>0.0</td>\n",
       "      <td>21.0</td>\n",
       "      <td>0.0</td>\n",
       "      <td>1.0</td>\n",
       "    </tr>\n",
       "    <tr>\n",
       "      <th>4</th>\n",
       "      <td>Astrodome</td>\n",
       "      <td>29.6849</td>\n",
       "      <td>-95.4077</td>\n",
       "      <td>1.0</td>\n",
       "      <td>1.0</td>\n",
       "      <td>100.0</td>\n",
       "      <td>0.0</td>\n",
       "      <td>3.0</td>\n",
       "    </tr>\n",
       "    <tr>\n",
       "      <th>6</th>\n",
       "      <td>Binz</td>\n",
       "      <td>29.7249</td>\n",
       "      <td>-95.3881</td>\n",
       "      <td>4.0</td>\n",
       "      <td>12.0</td>\n",
       "      <td>100.0</td>\n",
       "      <td>0.0</td>\n",
       "      <td>15.0</td>\n",
       "    </tr>\n",
       "  </tbody>\n",
       "</table>\n",
       "</div>"
      ],
      "text/plain": [
       "  Neighborhood Latitude Longitude  Schools  University  Offices  \\\n",
       "0  Acres Homes  29.8647  -95.4309      1.0         0.0     33.0   \n",
       "2        Alief  29.7111  -95.5963      4.0         0.0     79.0   \n",
       "3    Allendale  29.6941  -95.2463      3.0         0.0     21.0   \n",
       "4    Astrodome  29.6849  -95.4077      1.0         1.0    100.0   \n",
       "6         Binz  29.7249  -95.3881      4.0        12.0    100.0   \n",
       "\n",
       "   Shopping Mall  Food Truck  \n",
       "0            0.0         0.0  \n",
       "2            0.0         0.0  \n",
       "3            0.0         1.0  \n",
       "4            0.0         3.0  \n",
       "6            0.0        15.0  "
      ]
     },
     "execution_count": 31,
     "metadata": {},
     "output_type": "execute_result"
    }
   ],
   "source": [
    "df_houston_merged = df_Houston\n",
    "\n",
    "#adding count columns for schools to the pre processed houston data\n",
    "addColumn(df_houston_merged, 'Schools', houston_Venues_Schools)\n",
    "\n",
    "#adding count columns for university to the pre processed houston data\n",
    "addColumn(df_houston_merged, 'University', houston_Venues_University)\n",
    "\n",
    "#adding count columns for offices to the pre processed houston data\n",
    "addColumn(df_houston_merged, 'Offices', houston_Venues_Offices)\n",
    "\n",
    "#adding count columns for shopping malls to the pre processed houston data\n",
    "addColumn(df_houston_merged, 'Shopping Mall', houston_Venues_ShoppingMall)\n",
    "\n",
    "#adding count columns for shopping malls to the pre processed houston data\n",
    "addColumn(df_houston_merged, 'Food Truck', houston_Venues_FoodTruck)\n",
    "\n",
    "df_houston_merged.head()"
   ]
  },
  {
   "cell_type": "markdown",
   "metadata": {},
   "source": [
    "Now Assigning weights. Since we do not want to concur with other food trucks, we assign \n",
    "1. Negative weight, because client wants to run the truck where the competition is less\n",
    "2. Positive weight, because the traffic would be high in the mall area during workdays and weekends\n",
    "3. Positive weight, because traffic during before and after school hours would be high during workdays\n",
    "4. Positive weight, because university students would be frequent customers\n",
    "5. Positive weight, because employees would like to have a quick lunch and get back to work and the traffic will be more compared to others"
   ]
  },
  {
   "cell_type": "code",
   "execution_count": 32,
   "metadata": {},
   "outputs": [],
   "source": [
    "#Assigning weights\n",
    "weight_Truck = -1\n",
    "weight_mall = 1.5\n",
    "weight_schools = 1\n",
    "weight_uni = 1.5\n",
    "weight_offices = 2"
   ]
  },
  {
   "cell_type": "markdown",
   "metadata": {},
   "source": [
    "Now we create a matrix with the weights assigned and calculate the score. Then we sort it by descending order. \n",
    "\n",
    "x = (y * i) + (y1 * i1)+...........+(n * m)\n",
    "\n",
    "Formula In-efficient for large dataset"
   ]
  },
  {
   "cell_type": "code",
   "execution_count": 33,
   "metadata": {},
   "outputs": [
    {
     "data": {
      "text/html": [
       "<div>\n",
       "<style scoped>\n",
       "    .dataframe tbody tr th:only-of-type {\n",
       "        vertical-align: middle;\n",
       "    }\n",
       "\n",
       "    .dataframe tbody tr th {\n",
       "        vertical-align: top;\n",
       "    }\n",
       "\n",
       "    .dataframe thead th {\n",
       "        text-align: right;\n",
       "    }\n",
       "</style>\n",
       "<table border=\"1\" class=\"dataframe\">\n",
       "  <thead>\n",
       "    <tr style=\"text-align: right;\">\n",
       "      <th></th>\n",
       "      <th>Neighborhood</th>\n",
       "      <th>Latitude</th>\n",
       "      <th>Longitude</th>\n",
       "      <th>Schools</th>\n",
       "      <th>University</th>\n",
       "      <th>Offices</th>\n",
       "      <th>Shopping Mall</th>\n",
       "      <th>Food Truck</th>\n",
       "      <th>Weighted Score</th>\n",
       "    </tr>\n",
       "  </thead>\n",
       "  <tbody>\n",
       "    <tr>\n",
       "      <th>0</th>\n",
       "      <td>Memorial</td>\n",
       "      <td>29.7186</td>\n",
       "      <td>-95.3909</td>\n",
       "      <td>1.0</td>\n",
       "      <td>15.0</td>\n",
       "      <td>100.0</td>\n",
       "      <td>0.0</td>\n",
       "      <td>1.0</td>\n",
       "      <td>222.5</td>\n",
       "    </tr>\n",
       "    <tr>\n",
       "      <th>1</th>\n",
       "      <td>Third Ward</td>\n",
       "      <td>29.7284</td>\n",
       "      <td>-95.3499</td>\n",
       "      <td>3.0</td>\n",
       "      <td>15.0</td>\n",
       "      <td>96.0</td>\n",
       "      <td>0.0</td>\n",
       "      <td>1.0</td>\n",
       "      <td>216.5</td>\n",
       "    </tr>\n",
       "    <tr>\n",
       "      <th>2</th>\n",
       "      <td>Medical Center</td>\n",
       "      <td>29.7589</td>\n",
       "      <td>-95.3677</td>\n",
       "      <td>8.0</td>\n",
       "      <td>7.0</td>\n",
       "      <td>100.0</td>\n",
       "      <td>2.0</td>\n",
       "      <td>12.0</td>\n",
       "      <td>209.5</td>\n",
       "    </tr>\n",
       "    <tr>\n",
       "      <th>3</th>\n",
       "      <td>Wayside</td>\n",
       "      <td>29.7589</td>\n",
       "      <td>-95.3677</td>\n",
       "      <td>8.0</td>\n",
       "      <td>7.0</td>\n",
       "      <td>100.0</td>\n",
       "      <td>2.0</td>\n",
       "      <td>12.0</td>\n",
       "      <td>209.5</td>\n",
       "    </tr>\n",
       "    <tr>\n",
       "      <th>4</th>\n",
       "      <td>Museum District</td>\n",
       "      <td>29.7247</td>\n",
       "      <td>-95.3891</td>\n",
       "      <td>4.0</td>\n",
       "      <td>13.0</td>\n",
       "      <td>100.0</td>\n",
       "      <td>0.0</td>\n",
       "      <td>14.0</td>\n",
       "      <td>209.5</td>\n",
       "    </tr>\n",
       "    <tr>\n",
       "      <th>5</th>\n",
       "      <td>Pemberton</td>\n",
       "      <td>29.7589</td>\n",
       "      <td>-95.3677</td>\n",
       "      <td>8.0</td>\n",
       "      <td>7.0</td>\n",
       "      <td>100.0</td>\n",
       "      <td>2.0</td>\n",
       "      <td>12.0</td>\n",
       "      <td>209.5</td>\n",
       "    </tr>\n",
       "    <tr>\n",
       "      <th>6</th>\n",
       "      <td>Sunnyside</td>\n",
       "      <td>29.7589</td>\n",
       "      <td>-95.3677</td>\n",
       "      <td>8.0</td>\n",
       "      <td>7.0</td>\n",
       "      <td>100.0</td>\n",
       "      <td>2.0</td>\n",
       "      <td>12.0</td>\n",
       "      <td>209.5</td>\n",
       "    </tr>\n",
       "    <tr>\n",
       "      <th>7</th>\n",
       "      <td>Sharpstown</td>\n",
       "      <td>29.6849</td>\n",
       "      <td>-95.5156</td>\n",
       "      <td>2.0</td>\n",
       "      <td>4.0</td>\n",
       "      <td>100.0</td>\n",
       "      <td>0.0</td>\n",
       "      <td>0.0</td>\n",
       "      <td>208.0</td>\n",
       "    </tr>\n",
       "    <tr>\n",
       "      <th>8</th>\n",
       "      <td>Binz</td>\n",
       "      <td>29.7249</td>\n",
       "      <td>-95.3881</td>\n",
       "      <td>4.0</td>\n",
       "      <td>12.0</td>\n",
       "      <td>100.0</td>\n",
       "      <td>0.0</td>\n",
       "      <td>15.0</td>\n",
       "      <td>207.0</td>\n",
       "    </tr>\n",
       "    <tr>\n",
       "      <th>9</th>\n",
       "      <td>Spring Shadows</td>\n",
       "      <td>29.8185</td>\n",
       "      <td>-95.539</td>\n",
       "      <td>59.0</td>\n",
       "      <td>1.0</td>\n",
       "      <td>74.0</td>\n",
       "      <td>0.0</td>\n",
       "      <td>2.0</td>\n",
       "      <td>206.5</td>\n",
       "    </tr>\n",
       "  </tbody>\n",
       "</table>\n",
       "</div>"
      ],
      "text/plain": [
       "      Neighborhood Latitude Longitude  Schools  University  Offices  \\\n",
       "0         Memorial  29.7186  -95.3909      1.0        15.0    100.0   \n",
       "1       Third Ward  29.7284  -95.3499      3.0        15.0     96.0   \n",
       "2   Medical Center  29.7589  -95.3677      8.0         7.0    100.0   \n",
       "3          Wayside  29.7589  -95.3677      8.0         7.0    100.0   \n",
       "4  Museum District  29.7247  -95.3891      4.0        13.0    100.0   \n",
       "5        Pemberton  29.7589  -95.3677      8.0         7.0    100.0   \n",
       "6        Sunnyside  29.7589  -95.3677      8.0         7.0    100.0   \n",
       "7       Sharpstown  29.6849  -95.5156      2.0         4.0    100.0   \n",
       "8             Binz  29.7249  -95.3881      4.0        12.0    100.0   \n",
       "9   Spring Shadows  29.8185   -95.539     59.0         1.0     74.0   \n",
       "\n",
       "   Shopping Mall  Food Truck  Weighted Score  \n",
       "0            0.0         1.0           222.5  \n",
       "1            0.0         1.0           216.5  \n",
       "2            2.0        12.0           209.5  \n",
       "3            2.0        12.0           209.5  \n",
       "4            0.0        14.0           209.5  \n",
       "5            2.0        12.0           209.5  \n",
       "6            2.0        12.0           209.5  \n",
       "7            0.0         0.0           208.0  \n",
       "8            0.0        15.0           207.0  \n",
       "9            0.0         2.0           206.5  "
      ]
     },
     "execution_count": 33,
     "metadata": {},
     "output_type": "execute_result"
    }
   ],
   "source": [
    "df_houston_weighted = df_houston_merged\n",
    "\n",
    "df_houston_weighted['Weighted Score'] = df_houston_merged['Food Truck'] * weight_Truck + df_houston_merged['Schools'] * weight_schools + df_houston_merged['University'] * weight_uni + df_houston_merged['Offices'] * weight_offices + df_houston_merged['Shopping Mall'] * weight_mall\n",
    "\n",
    "df_houston_weighted = df_houston_weighted.sort_values(by=['Weighted Score'], ascending = False).reset_index(drop = True)\n",
    "df_houston_weighted.head(10)"
   ]
  },
  {
   "cell_type": "markdown",
   "metadata": {},
   "source": [
    "### 4. Results"
   ]
  },
  {
   "cell_type": "markdown",
   "metadata": {},
   "source": [
    "The indexes are the ranks of the neighborhoods"
   ]
  },
  {
   "cell_type": "code",
   "execution_count": 34,
   "metadata": {},
   "outputs": [
    {
     "data": {
      "text/html": [
       "<div>\n",
       "<style scoped>\n",
       "    .dataframe tbody tr th:only-of-type {\n",
       "        vertical-align: middle;\n",
       "    }\n",
       "\n",
       "    .dataframe tbody tr th {\n",
       "        vertical-align: top;\n",
       "    }\n",
       "\n",
       "    .dataframe thead th {\n",
       "        text-align: right;\n",
       "    }\n",
       "</style>\n",
       "<table border=\"1\" class=\"dataframe\">\n",
       "  <thead>\n",
       "    <tr style=\"text-align: right;\">\n",
       "      <th></th>\n",
       "      <th>Neighborhood</th>\n",
       "      <th>Latitude</th>\n",
       "      <th>Longitude</th>\n",
       "      <th>Schools</th>\n",
       "      <th>University</th>\n",
       "      <th>Offices</th>\n",
       "      <th>Shopping Mall</th>\n",
       "      <th>Food Truck</th>\n",
       "      <th>Weighted Score</th>\n",
       "    </tr>\n",
       "  </thead>\n",
       "  <tbody>\n",
       "    <tr>\n",
       "      <th>0</th>\n",
       "      <td>Memorial</td>\n",
       "      <td>29.7186</td>\n",
       "      <td>-95.3909</td>\n",
       "      <td>1.0</td>\n",
       "      <td>15.0</td>\n",
       "      <td>100.0</td>\n",
       "      <td>0.0</td>\n",
       "      <td>1.0</td>\n",
       "      <td>222.5</td>\n",
       "    </tr>\n",
       "    <tr>\n",
       "      <th>1</th>\n",
       "      <td>Third Ward</td>\n",
       "      <td>29.7284</td>\n",
       "      <td>-95.3499</td>\n",
       "      <td>3.0</td>\n",
       "      <td>15.0</td>\n",
       "      <td>96.0</td>\n",
       "      <td>0.0</td>\n",
       "      <td>1.0</td>\n",
       "      <td>216.5</td>\n",
       "    </tr>\n",
       "    <tr>\n",
       "      <th>2</th>\n",
       "      <td>Medical Center</td>\n",
       "      <td>29.7589</td>\n",
       "      <td>-95.3677</td>\n",
       "      <td>8.0</td>\n",
       "      <td>7.0</td>\n",
       "      <td>100.0</td>\n",
       "      <td>2.0</td>\n",
       "      <td>12.0</td>\n",
       "      <td>209.5</td>\n",
       "    </tr>\n",
       "  </tbody>\n",
       "</table>\n",
       "</div>"
      ],
      "text/plain": [
       "     Neighborhood Latitude Longitude  Schools  University  Offices  \\\n",
       "0        Memorial  29.7186  -95.3909      1.0        15.0    100.0   \n",
       "1      Third Ward  29.7284  -95.3499      3.0        15.0     96.0   \n",
       "2  Medical Center  29.7589  -95.3677      8.0         7.0    100.0   \n",
       "\n",
       "   Shopping Mall  Food Truck  Weighted Score  \n",
       "0            0.0         1.0           222.5  \n",
       "1            0.0         1.0           216.5  \n",
       "2            2.0        12.0           209.5  "
      ]
     },
     "execution_count": 34,
     "metadata": {},
     "output_type": "execute_result"
    }
   ],
   "source": [
    "df_foodTruck_topLocations = df_houston_weighted.iloc[:3]\n",
    "\n",
    "df_foodTruck_topLocations"
   ]
  },
  {
   "cell_type": "markdown",
   "metadata": {},
   "source": [
    "After the analysis and calculations we can observe the top three neighborhoods in Houston to start are food truck are,\n",
    "\n",
    "1. Memorial\n",
    "2. Third Ward\n",
    "3. Medical Center\n",
    "\n",
    "Mapping the top three neighborhoods that are predicted during our analysis"
   ]
  },
  {
   "cell_type": "code",
   "execution_count": 37,
   "metadata": {},
   "outputs": [],
   "source": [
    "map_foodTruck_result = folium.Map(location=[latitude, longitude], zoom_start=11.5)\n",
    "\n",
    "for lat, lng, neigh in zip(df_foodTruck_topLocations['Latitude'], df_foodTruck_topLocations ['Longitude'], df_foodTruck_topLocations['Neighborhood']):\n",
    "    label = '{}'.format(neigh)\n",
    "    label = folium.Popup(label, parse_html = True)\n",
    "    folium.CircleMarker(\n",
    "    [lat,lng],\n",
    "    radius=50,\n",
    "    popup=label,\n",
    "    color='darkgreen',\n",
    "    fill_opacity=1.0).add_to(map_foodTruck_result)\n",
    "\n",
    "for ix in df_foodTruck_topLocations.index[:3]:\n",
    "    addToMap(houston_Venues_Schools[houston_Venues_Schools['Neighborhood'] == df_foodTruck_topLocations['Neighborhood'][ix]], 'green', map_foodTruck_result)\n",
    "    addToMap(houston_Venues_University[houston_Venues_University['Neighborhood'] == df_foodTruck_topLocations['Neighborhood'][ix]], 'red', map_foodTruck_result)\n",
    "    addToMap(houston_Venues_Offices[houston_Venues_Offices['Neighborhood'] == df_foodTruck_topLocations['Neighborhood'][ix]], 'blue', map_foodTruck_result)\n",
    "    addToMap(houston_Venues_ShoppingMall[houston_Venues_ShoppingMall['Neighborhood'] == df_foodTruck_topLocations['Neighborhood'][ix]], 'yellow', map_foodTruck_result)\n",
    "\n",
    "map_foodTruck_result.save('FoodTruck_Result.html')"
   ]
  },
  {
   "cell_type": "markdown",
   "metadata": {},
   "source": [
    "### 5. Discussion"
   ]
  },
  {
   "cell_type": "markdown",
   "metadata": {},
   "source": [
    "- From our initial analysis we could observe that the top 3 neighborhoods based on the count of food truck per neighborhood were Binz, Museum District and Medical Center\n",
    "\n",
    "- Client was worried about their competition and wanted me find the least concurrent places where the client can avoid other competitors\n",
    "\n",
    "- For further analysis we downloaded school, office and university data since they would be great target audience and assigned them weights according to their traffic, and also assigned weight to the trucks data too to avoid concurrence with the other competitors\n",
    "\n",
    "- Weighted scores are calculated and the result is sorted according to their weighted score which yielded us the top 3 neighborhoods\n",
    "\n",
    "- We can also suggest the next 3 neighborhoods for the clients according to our analysis which would be \n",
    "    - Wayside\n",
    "    - Museum District\n",
    "    - Pembertown\n",
    "    \n",
    "    \n",
    "- Limitations\n",
    "    - Geo py could not yield the results for all the super neighborhoods in houston which were excluded from the data \n",
    "    - Accuracy of venues purely depends on Foursquare"
   ]
  },
  {
   "cell_type": "markdown",
   "metadata": {},
   "source": [
    "### 6. Conclusion"
   ]
  },
  {
   "cell_type": "markdown",
   "metadata": {},
   "source": [
    "Based on our analysis the client should start their food truck business in the following three neighborhoods,\n",
    "- Memorial\n",
    "- Third Ward\n",
    "- Medical Center\n",
    "\n",
    "Upon further analysis, the client can also do business in the next three neighborhoods,\n",
    "- Wayside\n",
    "- Museum District\n",
    "- Pembertown"
   ]
  }
 ],
 "metadata": {
  "kernelspec": {
   "display_name": "Python",
   "language": "python",
   "name": "conda-env-python-py"
  },
  "language_info": {
   "codemirror_mode": {
    "name": "ipython",
    "version": 3
   },
   "file_extension": ".py",
   "mimetype": "text/x-python",
   "name": "python",
   "nbconvert_exporter": "python",
   "pygments_lexer": "ipython3",
   "version": "3.6.7"
  }
 },
 "nbformat": 4,
 "nbformat_minor": 4
}
