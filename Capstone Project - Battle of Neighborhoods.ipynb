{
 "cells": [
  {
   "cell_type": "markdown",
   "metadata": {},
   "source": [
    "## Scenario"
   ]
  },
  {
   "cell_type": "markdown",
   "metadata": {},
   "source": [
    "Food trucks have been growing since it was known to the public. The main aim of the food truck is to take the food to the customers. The business plan would be successful if the truck was aimed at the right target customers. Unlike traditional restaurant and fast food chains, the food is cooked at that moment and served fresh to the customer. The turnaround time for the customer's orders should be quick to satisfy customers. The following business problem section is based on this scenario."
   ]
  },
  {
   "cell_type": "markdown",
   "metadata": {},
   "source": [
    "### 1. Business Problem"
   ]
  },
  {
   "cell_type": "markdown",
   "metadata": {},
   "source": [
    "A client of mine who is based in Houston, Texas, wants to start a food truck with the concept of selling middle eastern cuisine. It mainly concentrates on foods like shawarma, wraps, salads with hummus etc. These foods are pretty quick to cook and serve to the customers. The main goal of the client is to aim at the customers like students, business employees, constructions sites, public parks, or mostly commonly visited places by the public. The challenge is to find the top three neighborhoods among the most popular neighborhoods in Houston, Texas so that my client can kick-start their business and estimate the turn out profits in the next two to three years by concentrating on the top three neighborhoods.\n",
    "\n",
    "This business problem mainly concentrates on finding the top three neighborhoods to start the food truck business."
   ]
  },
  {
   "cell_type": "markdown",
   "metadata": {},
   "source": [
    "### 2.Data"
   ]
  },
  {
   "cell_type": "markdown",
   "metadata": {},
   "source": [
    "##### Sources: \n",
    "\n",
    "1. List of super neighborhoods in Houston, TX: https://en.wikipedia.org/wiki/List_of_Houston_neighborhoods\n",
    "2. FourSquare data to find the popular venues\n",
    "\n",
    "##### How will the data be used to answer the business needs?\n",
    "The data mentioned above will be used to explore and target locations across different venues present in the neighborhoods. \n",
    "\n",
    "1. Use Foursquare and geopy data to map top 10 venues for the super neighborhoods of Houston and cluster them in groups\n",
    "2. Wikipedia data to get the neighborhoods information\n",
    "3. Additional data will be added from open data sources if available in the future if the data is insufficient\n",
    "\n",
    "By extracting the venues of the neighborhoods we can determine the most visited venues which would determine that the customer count is high in that area. By using Foursquare data and the Houston's neighborhood data, we can recommend the top three neighborhoods by performing machine learning techniques and can visualize them through a graph or a map. "
   ]
  },
  {
   "cell_type": "code",
   "execution_count": 4,
   "metadata": {},
   "outputs": [
    {
     "name": "stdout",
     "output_type": "stream",
     "text": [
      "Libraries imported.\n"
     ]
    }
   ],
   "source": [
    "import numpy as np # library to handle data in a vectorized manner\n",
    "\n",
    "import pandas as pd # library for data analysis\n",
    "pd.set_option('display.max_columns', None)\n",
    "pd.set_option('display.max_rows', None)\n",
    "\n",
    "import json # library to handle JSON files\n",
    "\n",
    "#!conda install -c conda-forge geopy --yes # \n",
    "from geopy.geocoders import Nominatim # convert an address into latitude and longitude values\n",
    "\n",
    "import requests # library to handle requests\n",
    "from pandas.io.json import json_normalize # tranform JSON file into a pandas dataframe\n",
    "\n",
    "# Matplotlib and associated plotting modules\n",
    "import matplotlib.cm as cm\n",
    "import matplotlib.colors as colors\n",
    "import matplotlib.pyplot as plt\n",
    "\n",
    "# import k-means from clustering stage\n",
    "from sklearn.cluster import KMeans\n",
    "\n",
    "#!conda install -c conda-forge folium=0.5.0 --yes # \n",
    "import folium # map rendering library\n",
    "\n",
    "#!conda install -c conda-forge lxml --yes\n",
    "#Lib for html handling\n",
    "from lxml import html\n",
    "\n",
    "print('Libraries imported.')"
   ]
  },
  {
   "cell_type": "markdown",
   "metadata": {},
   "source": [
    "##### Storing the neighborhoods data into the dataframe"
   ]
  },
  {
   "cell_type": "code",
   "execution_count": 90,
   "metadata": {},
   "outputs": [
    {
     "data": {
      "text/html": [
       "<div>\n",
       "<style scoped>\n",
       "    .dataframe tbody tr th:only-of-type {\n",
       "        vertical-align: middle;\n",
       "    }\n",
       "\n",
       "    .dataframe tbody tr th {\n",
       "        vertical-align: top;\n",
       "    }\n",
       "\n",
       "    .dataframe thead th {\n",
       "        text-align: right;\n",
       "    }\n",
       "</style>\n",
       "<table border=\"1\" class=\"dataframe\">\n",
       "  <thead>\n",
       "    <tr style=\"text-align: right;\">\n",
       "      <th></th>\n",
       "      <th>Neighborhood</th>\n",
       "      <th>Borough</th>\n",
       "    </tr>\n",
       "  </thead>\n",
       "  <tbody>\n",
       "    <tr>\n",
       "      <th>0</th>\n",
       "      <td>Willowbrook</td>\n",
       "      <td>Northwest</td>\n",
       "    </tr>\n",
       "    <tr>\n",
       "      <th>1</th>\n",
       "      <td>Greater Greenspoint</td>\n",
       "      <td>North</td>\n",
       "    </tr>\n",
       "    <tr>\n",
       "      <th>2</th>\n",
       "      <td>Carverdale</td>\n",
       "      <td>Northwest</td>\n",
       "    </tr>\n",
       "    <tr>\n",
       "      <th>3</th>\n",
       "      <td>Fairbanks</td>\n",
       "      <td>Northwest</td>\n",
       "    </tr>\n",
       "    <tr>\n",
       "      <th>4</th>\n",
       "      <td>Greater Inwood</td>\n",
       "      <td>Northwest</td>\n",
       "    </tr>\n",
       "  </tbody>\n",
       "</table>\n",
       "</div>"
      ],
      "text/plain": [
       "          Neighborhood    Borough\n",
       "0          Willowbrook  Northwest\n",
       "1  Greater Greenspoint      North\n",
       "2           Carverdale  Northwest\n",
       "3           Fairbanks   Northwest\n",
       "4       Greater Inwood  Northwest"
      ]
     },
     "execution_count": 90,
     "metadata": {},
     "output_type": "execute_result"
    }
   ],
   "source": [
    "url = 'https://en.wikipedia.org/wiki/List_of_Houston_neighborhoods'\n",
    "\n",
    "tables = pd.read_html(url, header=0)\n",
    "df = tables[0]\n",
    "\n",
    "#Data Preprocessing\n",
    "df_Houston = df.drop(['#', 'Approximate boundaries'], axis = 1)\n",
    "df_Houston = df_Houston.rename(columns = {\"Name\": \"Neighborhood\", \"Location relative to Downtown Houston\": \"Borough\"})\n",
    "#df_test = df_Houston['Neighborhood'].str.replace(\"(\", '/').str.split(\"/\").str[0]\n",
    "#df_test\n",
    "df_Houston['Neighborhood'] = df_Houston['Neighborhood'].str.replace(\"(\", '/').str.split(\"/\").str[0]\n",
    "\n",
    "#Manipulating data individually since the data is constant. Inefficient for continuous data.\n",
    "df_Houston['Neighborhood'][45] = df_Houston['Neighborhood'][45].replace(\"-\", '/').split(\"/\")[0]\n",
    "df_Houston['Neighborhood'][19] = df_Houston['Neighborhood'][19].replace(\"-\", ' ')\n",
    "\n",
    "df_Houston.head()"
   ]
  },
  {
   "cell_type": "markdown",
   "metadata": {},
   "source": [
    "##### Using Geo Py to retrieve the longitude and latitude of Houston"
   ]
  },
  {
   "cell_type": "code",
   "execution_count": 82,
   "metadata": {},
   "outputs": [
    {
     "name": "stdout",
     "output_type": "stream",
     "text": [
      "Geographical co-ordinates of Houston, TX are (lat):29.7589382 and (long): -95.3676974\n"
     ]
    }
   ],
   "source": [
    "address = 'Houston, TX'\n",
    "\n",
    "geolocator = Nominatim(user_agent=\"foursquare_agent\")\n",
    "location = geolocator.geocode(address)\n",
    "latitude = location.latitude\n",
    "longitude = location.longitude\n",
    "print(\"Geographical co-ordinates of Houston, TX are (lat):{} and (long): {}\".format(latitude, longitude))"
   ]
  },
  {
   "cell_type": "markdown",
   "metadata": {},
   "source": [
    "Script to extract the latitude and longitudes of the neighborhood using geo locator "
   ]
  },
  {
   "cell_type": "code",
   "execution_count": 84,
   "metadata": {},
   "outputs": [],
   "source": [
    "#Create lists for lat and long\n",
    "lat = []\n",
    "lng = []\n",
    "\n",
    "#Loop through all neigborhoods in Helsinki\n",
    "for adr in df_Houston['Neighborhood']:\n",
    "    #Use geolocator to get coordinates of neigborhoods\n",
    "    loc = geolocator.geocode(adr)\n",
    "    if loc == None:\n",
    "        lat.append('NAN')\n",
    "        lng.append('NAN')\n",
    "    #Append coordinates to lists\n",
    "    else:\n",
    "        lat.append(loc.latitude)\n",
    "        lng.append(loc.longitude)\n",
    "\n",
    "#Map coordinate lists to data frame \n",
    "#print(lat, lng)\n",
    "df_Houston['lat'] = lat\n",
    "df_Houston['lng'] = lng"
   ]
  },
  {
   "cell_type": "markdown",
   "metadata": {},
   "source": [
    "##### Following dataframe consists of neighborhoods with boroughs and their latitudes and longitudes that can be used for clustering the venues according the neighorhoods"
   ]
  },
  {
   "cell_type": "code",
   "execution_count": 89,
   "metadata": {},
   "outputs": [
    {
     "data": {
      "text/html": [
       "<div>\n",
       "<style scoped>\n",
       "    .dataframe tbody tr th:only-of-type {\n",
       "        vertical-align: middle;\n",
       "    }\n",
       "\n",
       "    .dataframe tbody tr th {\n",
       "        vertical-align: top;\n",
       "    }\n",
       "\n",
       "    .dataframe thead th {\n",
       "        text-align: right;\n",
       "    }\n",
       "</style>\n",
       "<table border=\"1\" class=\"dataframe\">\n",
       "  <thead>\n",
       "    <tr style=\"text-align: right;\">\n",
       "      <th></th>\n",
       "      <th>Neighborhood</th>\n",
       "      <th>Borough</th>\n",
       "      <th>lat</th>\n",
       "      <th>lng</th>\n",
       "    </tr>\n",
       "  </thead>\n",
       "  <tbody>\n",
       "    <tr>\n",
       "      <th>0</th>\n",
       "      <td>Willowbrook</td>\n",
       "      <td>Northwest</td>\n",
       "      <td>33.9188</td>\n",
       "      <td>-118.234</td>\n",
       "    </tr>\n",
       "    <tr>\n",
       "      <th>1</th>\n",
       "      <td>Greater Greenspoint</td>\n",
       "      <td>North</td>\n",
       "      <td>29.9527</td>\n",
       "      <td>-95.4053</td>\n",
       "    </tr>\n",
       "    <tr>\n",
       "      <th>2</th>\n",
       "      <td>Carverdale</td>\n",
       "      <td>Northwest</td>\n",
       "      <td>29.8487</td>\n",
       "      <td>-95.5395</td>\n",
       "    </tr>\n",
       "    <tr>\n",
       "      <th>3</th>\n",
       "      <td>Fairbanks</td>\n",
       "      <td>Northwest</td>\n",
       "      <td>64.8378</td>\n",
       "      <td>-147.717</td>\n",
       "    </tr>\n",
       "    <tr>\n",
       "      <th>4</th>\n",
       "      <td>Greater Inwood</td>\n",
       "      <td>Northwest</td>\n",
       "      <td>51.4626</td>\n",
       "      <td>-0.361756</td>\n",
       "    </tr>\n",
       "  </tbody>\n",
       "</table>\n",
       "</div>"
      ],
      "text/plain": [
       "          Neighborhood    Borough      lat       lng\n",
       "0          Willowbrook  Northwest  33.9188  -118.234\n",
       "1  Greater Greenspoint      North  29.9527  -95.4053\n",
       "2           Carverdale  Northwest  29.8487  -95.5395\n",
       "3           Fairbanks   Northwest  64.8378  -147.717\n",
       "4       Greater Inwood  Northwest  51.4626 -0.361756"
      ]
     },
     "execution_count": 89,
     "metadata": {},
     "output_type": "execute_result"
    }
   ],
   "source": [
    "df_Houston.head()"
   ]
  },
  {
   "cell_type": "code",
   "execution_count": null,
   "metadata": {},
   "outputs": [],
   "source": []
  }
 ],
 "metadata": {
  "kernelspec": {
   "display_name": "Python",
   "language": "python",
   "name": "conda-env-python-py"
  },
  "language_info": {
   "codemirror_mode": {
    "name": "ipython",
    "version": 3
   },
   "file_extension": ".py",
   "mimetype": "text/x-python",
   "name": "python",
   "nbconvert_exporter": "python",
   "pygments_lexer": "ipython3",
   "version": "3.6.7"
  }
 },
 "nbformat": 4,
 "nbformat_minor": 4
}
